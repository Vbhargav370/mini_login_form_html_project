{
  "nbformat": 4,
  "nbformat_minor": 0,
  "metadata": {
    "colab": {
      "provenance": [],
      "toc_visible": true,
      "include_colab_link": true
    },
    "kernelspec": {
      "name": "python3",
      "display_name": "Python 3"
    },
    "language_info": {
      "name": "python"
    }
  },
  "cells": [
    {
      "cell_type": "markdown",
      "metadata": {
        "id": "view-in-github",
        "colab_type": "text"
      },
      "source": [
        "<a href=\"https://colab.research.google.com/github/Vbhargav370/mini_login_form_html_project/blob/main/Python_List_Practice_Projects_(ID_P4632).ipynb\" target=\"_parent\"><img src=\"https://colab.research.google.com/assets/colab-badge.svg\" alt=\"Open In Colab\"/></a>"
      ]
    },
    {
      "cell_type": "markdown",
      "source": [
        "# **Q. Create an empty list named empty_list.**"
      ],
      "metadata": {
        "id": "lik8QfuUM4KW"
      }
    },
    {
      "cell_type": "code",
      "source": [
        "empty_list = []\n",
        "print(empty_list)"
      ],
      "metadata": {
        "id": "pp-lVmFvA0jH",
        "outputId": "7f48e041-c76e-4492-d919-fc94c34dcfdf",
        "colab": {
          "base_uri": "https://localhost:8080/"
        }
      },
      "execution_count": 7,
      "outputs": [
        {
          "output_type": "stream",
          "name": "stdout",
          "text": [
            "[]\n"
          ]
        }
      ]
    },
    {
      "cell_type": "markdown",
      "source": [
        "# **Q. Create a list of integers from 1 to 5 and name it int_list.**"
      ],
      "metadata": {
        "id": "v86WUh7MNHSL"
      }
    },
    {
      "cell_type": "code",
      "source": [
        "int_list = [1, 2, 3, 4, 5]\n",
        "print(int_list)"
      ],
      "metadata": {
        "id": "9XSvulpcNRhR",
        "outputId": "95159e40-2939-4b69-fad1-227cb114530e",
        "colab": {
          "base_uri": "https://localhost:8080/"
        }
      },
      "execution_count": 2,
      "outputs": [
        {
          "output_type": "stream",
          "name": "stdout",
          "text": [
            "[1, 2, 3, 4, 5]\n"
          ]
        }
      ]
    },
    {
      "cell_type": "markdown",
      "source": [
        "# **Q. Create a list of strings with the names of three different fruits and name it fruit_list.**"
      ],
      "metadata": {
        "id": "4cPGBzQgNSOg"
      }
    },
    {
      "cell_type": "code",
      "source": [
        "fruit_list = ['apple', 'mango', 'banana']\n",
        "print(fruit_list)"
      ],
      "metadata": {
        "id": "E2VusF7mNWJh",
        "outputId": "4311f27c-018e-4ca3-eacb-df2f5388e72f",
        "colab": {
          "base_uri": "https://localhost:8080/"
        }
      },
      "execution_count": 3,
      "outputs": [
        {
          "output_type": "stream",
          "name": "stdout",
          "text": [
            "['apple', 'mango', 'banana']\n"
          ]
        }
      ]
    },
    {
      "cell_type": "markdown",
      "source": [
        "# **Q. Create a list that contains an integer, a string, a float, and a boolean. Name it mixed_list.**"
      ],
      "metadata": {
        "id": "GWEjSPTPQzXV"
      }
    },
    {
      "cell_type": "code",
      "source": [
        "mix_list = [1, 'ybi foundation', 2.2, True]\n",
        "print(mix_list)"
      ],
      "metadata": {
        "id": "E7su8qBgP0FO",
        "outputId": "fcffa379-c1aa-496b-9993-4a706c6882a1",
        "colab": {
          "base_uri": "https://localhost:8080/"
        }
      },
      "execution_count": 4,
      "outputs": [
        {
          "output_type": "stream",
          "name": "stdout",
          "text": [
            "[1, 'ybi foundation', 2.2, True]\n"
          ]
        }
      ]
    },
    {
      "cell_type": "markdown",
      "source": [
        "# **Q. Create a list that contains three sub-lists. Each sub-list should contain three integers. Name the outer list nested_list.**"
      ],
      "metadata": {
        "id": "ODDbCRWURZvD"
      }
    },
    {
      "cell_type": "code",
      "source": [
        "nested_list = [\n",
        "    [1, 2, 3],\n",
        "    [4, 5, 6],\n",
        "    [7, 8, 9]\n",
        "]\n",
        "print(nested_list)"
      ],
      "metadata": {
        "id": "ghYj6TbNRcBq",
        "outputId": "628ace57-d7d2-44fd-87bc-2aef891439e2",
        "colab": {
          "base_uri": "https://localhost:8080/"
        }
      },
      "execution_count": 5,
      "outputs": [
        {
          "output_type": "stream",
          "name": "stdout",
          "text": [
            "[[1, 2, 3], [4, 5, 6], [7, 8, 9]]\n"
          ]
        }
      ]
    },
    {
      "cell_type": "markdown",
      "source": [
        "# **Q. Convert the string \"hello\" into a list of characters and name it char_list.**"
      ],
      "metadata": {
        "id": "4qc1gTRyahF5"
      }
    },
    {
      "cell_type": "code",
      "source": [
        "char_list = list(\"hello\")\n",
        "print(char_list)  # Output: ['h', 'e', 'l', 'l', 'o']"
      ],
      "metadata": {
        "id": "G_-b8Wp_al3o",
        "outputId": "9f16198e-1ed7-46e9-8eea-18273a6c6f20",
        "colab": {
          "base_uri": "https://localhost:8080/"
        }
      },
      "execution_count": 6,
      "outputs": [
        {
          "output_type": "stream",
          "name": "stdout",
          "text": [
            "['h', 'e', 'l', 'l', 'o']\n"
          ]
        }
      ]
    },
    {
      "cell_type": "markdown",
      "source": [
        "# **Q. Convert the tuple (1, 2, 3, 4, 5) into a list and name it num_list.**"
      ],
      "metadata": {
        "id": "I1K-X7J9bSRf"
      }
    },
    {
      "cell_type": "code",
      "source": [],
      "metadata": {
        "id": "yY21iGuaal6z"
      },
      "execution_count": 6,
      "outputs": []
    },
    {
      "cell_type": "code",
      "source": [],
      "metadata": {
        "id": "Q5dYDvjPal9e"
      },
      "execution_count": 6,
      "outputs": []
    },
    {
      "cell_type": "markdown",
      "source": [
        "---"
      ],
      "metadata": {
        "id": "S7oeeccqP0dt"
      }
    }
  ]
}